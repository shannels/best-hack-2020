{
 "cells": [
  {
   "cell_type": "code",
   "execution_count": 330,
   "metadata": {},
   "outputs": [],
   "source": [
    "import pandas as pd\n",
    "import numpy as np\n",
    "import matplotlib.pyplot as plt\n",
    "import seaborn as sns\n",
    "from sklearn import preprocessing\n",
    "from scipy import stats\n",
    "%matplotlib inline\n",
    "import sklearn\n",
    "from sklearn import metrics"
   ]
  },
  {
   "cell_type": "code",
   "execution_count": 8,
   "metadata": {},
   "outputs": [],
   "source": [
    "from sklearn import linear_model"
   ]
  },
  {
   "cell_type": "code",
   "execution_count": 9,
   "metadata": {},
   "outputs": [],
   "source": [
    "import warnings\n",
    "warnings.filterwarnings('ignore')"
   ]
  },
  {
   "cell_type": "code",
   "execution_count": 10,
   "metadata": {},
   "outputs": [],
   "source": [
    "columns = [\n",
    "    'Short_Description', \n",
    "    'Water', \n",
    "    'Energy_Kcal', \n",
    "    'Protein', \n",
    "    'Lipid_Total',\n",
    "    'Ash', \n",
    "    'Carbohydrate',\n",
    "    'Fiber', \n",
    "    'Sugar_Total',\n",
    "    'Calcium', \n",
    "    'Iron', \n",
    "    'Magnesium', \n",
    "    'Phosphorus',\n",
    "    'Potassium', \n",
    "    'Sodium', \n",
    "    'Zinc', \n",
    "    'Copper',\n",
    "    'Manganese', \n",
    "    'Selenium', \n",
    "    'Vitamin_C', \n",
    "    'Thiamin',\n",
    "    'Riboflavin', \n",
    "    'Niacin', \n",
    "    'Panto_Acid', \n",
    "    'Vitamin_B6',\n",
    "    'Folate_Total', \n",
    "    'Folic_Acid', \n",
    "    'Food_Folate',\n",
    "    'Folate_DFE', \n",
    "    'Choline_Total', \n",
    "    'Vitamin_B12', \n",
    "    'Vitamin_A_IU',\n",
    "    'Vitamin_A_RAE', \n",
    "    'Retinol', \n",
    "    'Alpha_Carot', \n",
    "    'Beta_Carot',\n",
    "    'Beta_Crypt', \n",
    "    'Lycopene', \n",
    "    'Lut+Zea', \n",
    "    'Vitamin_E',\n",
    "    'Vitamin_D', \n",
    "    'Vitamin_D_IU', \n",
    "    'Vitamin_K', \n",
    "    'Fatty_Acid_Sat', \n",
    "    'Fatty_Acid_Mono',\n",
    "    'Fatty_Acid_Poly', \n",
    "    'Cholestrl', \n",
    "    'GmWt_1', \n",
    "    'GmWt_Desc1', \n",
    "    'GmWt_2',\n",
    "    'GmWt_Desc2', \n",
    "    'Refuse_Percentage'  \n",
    "]"
   ]
  },
  {
   "cell_type": "code",
   "execution_count": 316,
   "metadata": {},
   "outputs": [],
   "source": [
    "df_train = pd.read_csv('train.csv')\n",
    "df_train.columns = columns"
   ]
  },
  {
   "cell_type": "code",
   "execution_count": 12,
   "metadata": {
    "scrolled": false
   },
   "outputs": [
    {
     "data": {
      "text/html": [
       "<div>\n",
       "<style scoped>\n",
       "    .dataframe tbody tr th:only-of-type {\n",
       "        vertical-align: middle;\n",
       "    }\n",
       "\n",
       "    .dataframe tbody tr th {\n",
       "        vertical-align: top;\n",
       "    }\n",
       "\n",
       "    .dataframe thead th {\n",
       "        text-align: right;\n",
       "    }\n",
       "</style>\n",
       "<table border=\"1\" class=\"dataframe\">\n",
       "  <thead>\n",
       "    <tr style=\"text-align: right;\">\n",
       "      <th></th>\n",
       "      <th>Short_Description</th>\n",
       "      <th>Water</th>\n",
       "      <th>Energy_Kcal</th>\n",
       "      <th>Protein</th>\n",
       "      <th>Lipid_Total</th>\n",
       "      <th>Ash</th>\n",
       "      <th>Carbohydrate</th>\n",
       "      <th>Fiber</th>\n",
       "      <th>Sugar_Total</th>\n",
       "      <th>Calcium</th>\n",
       "      <th>...</th>\n",
       "      <th>Vitamin_K</th>\n",
       "      <th>Fatty_Acid_Sat</th>\n",
       "      <th>Fatty_Acid_Mono</th>\n",
       "      <th>Fatty_Acid_Poly</th>\n",
       "      <th>Cholestrl</th>\n",
       "      <th>GmWt_1</th>\n",
       "      <th>GmWt_Desc1</th>\n",
       "      <th>GmWt_2</th>\n",
       "      <th>GmWt_Desc2</th>\n",
       "      <th>Refuse_Percentage</th>\n",
       "    </tr>\n",
       "  </thead>\n",
       "  <tbody>\n",
       "    <tr>\n",
       "      <td>0</td>\n",
       "      <td>BABYFOOD,CRL,OATMEAL,W/BANANAS,DRY</td>\n",
       "      <td>4.70</td>\n",
       "      <td>393</td>\n",
       "      <td>12.00</td>\n",
       "      <td>6.00</td>\n",
       "      <td>3.90</td>\n",
       "      <td>73.40</td>\n",
       "      <td>5.2</td>\n",
       "      <td>13.75</td>\n",
       "      <td>651.0</td>\n",
       "      <td>...</td>\n",
       "      <td>3.0</td>\n",
       "      <td>1.267</td>\n",
       "      <td>1.429</td>\n",
       "      <td>2.186</td>\n",
       "      <td>0.0</td>\n",
       "      <td>2.0</td>\n",
       "      <td>1 tbsp</td>\n",
       "      <td>15.0</td>\n",
       "      <td>.5 oz</td>\n",
       "      <td>0.0</td>\n",
       "    </tr>\n",
       "    <tr>\n",
       "      <td>1</td>\n",
       "      <td>HEARTS OF PALM,CANNED</td>\n",
       "      <td>90.20</td>\n",
       "      <td>28</td>\n",
       "      <td>2.52</td>\n",
       "      <td>0.62</td>\n",
       "      <td>2.04</td>\n",
       "      <td>4.62</td>\n",
       "      <td>2.4</td>\n",
       "      <td>NaN</td>\n",
       "      <td>58.0</td>\n",
       "      <td>...</td>\n",
       "      <td>NaN</td>\n",
       "      <td>0.130</td>\n",
       "      <td>0.103</td>\n",
       "      <td>0.202</td>\n",
       "      <td>0.0</td>\n",
       "      <td>146.0</td>\n",
       "      <td>1 cup</td>\n",
       "      <td>33.0</td>\n",
       "      <td>1 piece</td>\n",
       "      <td>0.0</td>\n",
       "    </tr>\n",
       "    <tr>\n",
       "      <td>2</td>\n",
       "      <td>CHICKEN,BROILERS OR FRYERS,THIGH,MEAT ONLY,CKD...</td>\n",
       "      <td>63.89</td>\n",
       "      <td>196</td>\n",
       "      <td>24.06</td>\n",
       "      <td>11.09</td>\n",
       "      <td>1.56</td>\n",
       "      <td>0.00</td>\n",
       "      <td>0.0</td>\n",
       "      <td>0.00</td>\n",
       "      <td>13.0</td>\n",
       "      <td>...</td>\n",
       "      <td>0.0</td>\n",
       "      <td>2.866</td>\n",
       "      <td>4.878</td>\n",
       "      <td>1.673</td>\n",
       "      <td>130.0</td>\n",
       "      <td>89.0</td>\n",
       "      <td>1 thigh</td>\n",
       "      <td>85.0</td>\n",
       "      <td>1 serving,  (3 oz)</td>\n",
       "      <td>29.0</td>\n",
       "    </tr>\n",
       "    <tr>\n",
       "      <td>3</td>\n",
       "      <td>PORK,CURED,SHLDR,ARM PICNIC,LN&amp;FAT,RSTD</td>\n",
       "      <td>54.73</td>\n",
       "      <td>280</td>\n",
       "      <td>20.43</td>\n",
       "      <td>21.35</td>\n",
       "      <td>3.51</td>\n",
       "      <td>0.00</td>\n",
       "      <td>0.0</td>\n",
       "      <td>0.00</td>\n",
       "      <td>10.0</td>\n",
       "      <td>...</td>\n",
       "      <td>0.0</td>\n",
       "      <td>7.670</td>\n",
       "      <td>10.140</td>\n",
       "      <td>2.320</td>\n",
       "      <td>58.0</td>\n",
       "      <td>140.0</td>\n",
       "      <td>1 cup</td>\n",
       "      <td>85.0</td>\n",
       "      <td>3 oz</td>\n",
       "      <td>27.0</td>\n",
       "    </tr>\n",
       "    <tr>\n",
       "      <td>4</td>\n",
       "      <td>VINEGAR,DISTILLED</td>\n",
       "      <td>94.78</td>\n",
       "      <td>18</td>\n",
       "      <td>0.00</td>\n",
       "      <td>0.00</td>\n",
       "      <td>0.02</td>\n",
       "      <td>0.04</td>\n",
       "      <td>0.0</td>\n",
       "      <td>0.04</td>\n",
       "      <td>6.0</td>\n",
       "      <td>...</td>\n",
       "      <td>0.0</td>\n",
       "      <td>0.000</td>\n",
       "      <td>0.000</td>\n",
       "      <td>0.000</td>\n",
       "      <td>0.0</td>\n",
       "      <td>14.0</td>\n",
       "      <td>1 tbsp</td>\n",
       "      <td>238.0</td>\n",
       "      <td>1 cup</td>\n",
       "      <td>0.0</td>\n",
       "    </tr>\n",
       "  </tbody>\n",
       "</table>\n",
       "<p>5 rows × 52 columns</p>\n",
       "</div>"
      ],
      "text/plain": [
       "                                   Short_Description  Water  Energy_Kcal  \\\n",
       "0                 BABYFOOD,CRL,OATMEAL,W/BANANAS,DRY   4.70          393   \n",
       "1                              HEARTS OF PALM,CANNED  90.20           28   \n",
       "2  CHICKEN,BROILERS OR FRYERS,THIGH,MEAT ONLY,CKD...  63.89          196   \n",
       "3            PORK,CURED,SHLDR,ARM PICNIC,LN&FAT,RSTD  54.73          280   \n",
       "4                                  VINEGAR,DISTILLED  94.78           18   \n",
       "\n",
       "   Protein  Lipid_Total   Ash  Carbohydrate  Fiber  Sugar_Total  Calcium  ...  \\\n",
       "0    12.00         6.00  3.90         73.40    5.2        13.75    651.0  ...   \n",
       "1     2.52         0.62  2.04          4.62    2.4          NaN     58.0  ...   \n",
       "2    24.06        11.09  1.56          0.00    0.0         0.00     13.0  ...   \n",
       "3    20.43        21.35  3.51          0.00    0.0         0.00     10.0  ...   \n",
       "4     0.00         0.00  0.02          0.04    0.0         0.04      6.0  ...   \n",
       "\n",
       "   Vitamin_K  Fatty_Acid_Sat  Fatty_Acid_Mono  Fatty_Acid_Poly  Cholestrl  \\\n",
       "0        3.0           1.267            1.429            2.186        0.0   \n",
       "1        NaN           0.130            0.103            0.202        0.0   \n",
       "2        0.0           2.866            4.878            1.673      130.0   \n",
       "3        0.0           7.670           10.140            2.320       58.0   \n",
       "4        0.0           0.000            0.000            0.000        0.0   \n",
       "\n",
       "   GmWt_1  GmWt_Desc1  GmWt_2          GmWt_Desc2  Refuse_Percentage  \n",
       "0     2.0      1 tbsp    15.0               .5 oz                0.0  \n",
       "1   146.0       1 cup    33.0             1 piece                0.0  \n",
       "2    89.0     1 thigh    85.0  1 serving,  (3 oz)               29.0  \n",
       "3   140.0       1 cup    85.0                3 oz               27.0  \n",
       "4    14.0      1 tbsp   238.0               1 cup                0.0  \n",
       "\n",
       "[5 rows x 52 columns]"
      ]
     },
     "execution_count": 12,
     "metadata": {},
     "output_type": "execute_result"
    }
   ],
   "source": [
    "df_train.head()"
   ]
  },
  {
   "cell_type": "code",
   "execution_count": 13,
   "metadata": {},
   "outputs": [
    {
     "data": {
      "text/plain": [
       "(7756, 52)"
      ]
     },
     "execution_count": 13,
     "metadata": {},
     "output_type": "execute_result"
    }
   ],
   "source": [
    "df_train.shape"
   ]
  },
  {
   "cell_type": "code",
   "execution_count": 14,
   "metadata": {},
   "outputs": [
    {
     "name": "stdout",
     "output_type": "stream",
     "text": [
      "<class 'pandas.core.frame.DataFrame'>\n",
      "RangeIndex: 7756 entries, 0 to 7755\n",
      "Data columns (total 52 columns):\n",
      "Short_Description    7756 non-null object\n",
      "Water                7751 non-null float64\n",
      "Energy_Kcal          7756 non-null int64\n",
      "Protein              7756 non-null float64\n",
      "Lipid_Total          7756 non-null float64\n",
      "Ash                  7461 non-null float64\n",
      "Carbohydrate         7756 non-null float64\n",
      "Fiber                7168 non-null float64\n",
      "Sugar_Total          6013 non-null float64\n",
      "Calcium              7443 non-null float64\n",
      "Iron                 7630 non-null float64\n",
      "Magnesium            7139 non-null float64\n",
      "Phosphorus           7234 non-null float64\n",
      "Potassium            7390 non-null float64\n",
      "Sodium               7681 non-null float64\n",
      "Zinc                 7123 non-null float64\n",
      "Copper               6630 non-null float64\n",
      "Manganese            5828 non-null float64\n",
      "Selenium             6175 non-null float64\n",
      "Vitamin_C            7053 non-null float64\n",
      "Thiamin              7138 non-null float64\n",
      "Riboflavin           7156 non-null float64\n",
      "Niacin               7137 non-null float64\n",
      "Panto_Acid           5825 non-null float64\n",
      "Vitamin_B6           6909 non-null float64\n",
      "Folate_Total         6639 non-null float64\n",
      "Folic_Acid           5975 non-null float64\n",
      "Food_Folate          6178 non-null float64\n",
      "Folate_DFE           5958 non-null float64\n",
      "Choline_Total        4095 non-null float64\n",
      "Vitamin_B12          6685 non-null float64\n",
      "Vitamin_A_IU         7145 non-null float64\n",
      "Vitamin_A_RAE        6387 non-null float64\n",
      "Retinol              6134 non-null float64\n",
      "Alpha_Carot          4732 non-null float64\n",
      "Beta_Carot           4815 non-null float64\n",
      "Beta_Crypt           4724 non-null float64\n",
      "Lycopene             4701 non-null float64\n",
      "Lut+Zea              4679 non-null float64\n",
      "Vitamin_E            5060 non-null float64\n",
      "Vitamin_D            4789 non-null float64\n",
      "Vitamin_D_IU         4790 non-null float64\n",
      "Vitamin_K            4475 non-null float64\n",
      "Fatty_Acid_Sat       7444 non-null float64\n",
      "Fatty_Acid_Mono      7149 non-null float64\n",
      "Fatty_Acid_Poly      7157 non-null float64\n",
      "Cholestrl            7426 non-null float64\n",
      "GmWt_1               7537 non-null float64\n",
      "GmWt_Desc1           7538 non-null object\n",
      "GmWt_2               4317 non-null float64\n",
      "GmWt_Desc2           4317 non-null object\n",
      "Refuse_Percentage    7723 non-null float64\n",
      "dtypes: float64(48), int64(1), object(3)\n",
      "memory usage: 3.1+ MB\n"
     ]
    }
   ],
   "source": [
    "df_train.info()"
   ]
  },
  {
   "cell_type": "markdown",
   "metadata": {},
   "source": [
    "# ШАГ 1\n",
    "Посмотреть количество пропусков и как их заполнять; проверить на наличие дубликатов."
   ]
  },
  {
   "cell_type": "code",
   "execution_count": 17,
   "metadata": {},
   "outputs": [
    {
     "name": "stdout",
     "output_type": "stream",
     "text": [
      "Choline_Total : 3661\n",
      "GmWt_2 : 3439\n",
      "GmWt_Desc2 : 3439\n",
      "Vitamin_K : 3281\n",
      "Lut+Zea : 3077\n",
      "Lycopene : 3055\n",
      "Beta_Crypt : 3032\n",
      "Alpha_Carot : 3024\n",
      "Vitamin_D : 2967\n",
      "Vitamin_D_IU : 2966\n",
      "Beta_Carot : 2941\n",
      "Vitamin_E : 2696\n",
      "Panto_Acid : 1931\n",
      "Manganese : 1928\n",
      "Folate_DFE : 1798\n",
      "Folic_Acid : 1781\n",
      "Sugar_Total : 1743\n",
      "Retinol : 1622\n",
      "Selenium : 1581\n",
      "Food_Folate : 1578\n",
      "Vitamin_A_RAE : 1369\n",
      "Copper : 1126\n",
      "Folate_Total : 1117\n",
      "Vitamin_B12 : 1071\n",
      "Vitamin_B6 : 847\n",
      "Vitamin_C : 703\n",
      "Zinc : 633\n",
      "Niacin : 619\n",
      "Thiamin : 618\n",
      "Magnesium : 617\n",
      "Vitamin_A_IU : 611\n",
      "Fatty_Acid_Mono : 607\n",
      "Riboflavin : 600\n",
      "Fatty_Acid_Poly : 599\n",
      "Fiber : 588\n",
      "Phosphorus : 522\n",
      "Potassium : 366\n",
      "Cholestrl : 330\n",
      "Calcium : 313\n",
      "Fatty_Acid_Sat : 312\n",
      "Ash : 295\n",
      "GmWt_1 : 219\n",
      "GmWt_Desc1 : 218\n",
      "Iron : 126\n",
      "Sodium : 75\n",
      "Refuse_Percentage : 33\n",
      "Water : 5\n",
      "Short_Description : 0\n",
      "Energy_Kcal : 0\n",
      "Protein : 0\n",
      "Lipid_Total : 0\n",
      "Carbohydrate : 0\n"
     ]
    }
   ],
   "source": [
    "quantity_nans = dict(df_train.isnull().sum())\n",
    "quantity_nans_list = list(quantity_nans.items())\n",
    "quantity_nans_list.sort(key = lambda x: x[1], reverse = True)\n",
    "for item in quantity_nans_list:\n",
    "    print(item[0],':',item[1])"
   ]
  },
  {
   "cell_type": "code",
   "execution_count": 18,
   "metadata": {},
   "outputs": [
    {
     "data": {
      "text/plain": [
       "75.0"
      ]
     },
     "execution_count": 18,
     "metadata": {},
     "output_type": "execute_result"
    }
   ],
   "source": [
    "np.round(100 - (df_train.dropna().shape[0] * 100 / df_train.shape[0] ))"
   ]
  },
  {
   "cell_type": "markdown",
   "metadata": {},
   "source": [
    "Если мы решим удалить все пропуски, мы удалим 75% датасета, поэтому нам необходимо заполнять пропуски. "
   ]
  },
  {
   "cell_type": "code",
   "execution_count": 74,
   "metadata": {},
   "outputs": [
    {
     "name": "stdout",
     "output_type": "stream",
     "text": [
      "Количество дубликатов в датасете: 0\n"
     ]
    }
   ],
   "source": [
    "print('Количество дубликатов в датасете: {}'.format(df_train.shape[0] - df_train.drop_duplicates().shape[0]))"
   ]
  },
  {
   "cell_type": "markdown",
   "metadata": {},
   "source": [
    "Прежде чем заполнять данные с помощью SimpleImputer, необходимо разобраться с 2 столбцами с категориальными данными. Будет оптимально взять столбцы с категориальными признаками, заполнить na в этих столбцах SimpleImputer(category='most_frequent'), затем разбить их OneHotEncoder ( может быть нужно будет сначала использовать LabelEncoder)\n",
    "затем все остальные столбцы заполнить SimpleImputer()"
   ]
  },
  {
   "cell_type": "code",
   "execution_count": 22,
   "metadata": {},
   "outputs": [],
   "source": [
    "from sklearn.impute import SimpleImputer "
   ]
  },
  {
   "cell_type": "code",
   "execution_count": 180,
   "metadata": {},
   "outputs": [],
   "source": [
    "most_frequent = SimpleImputer(missing_values=np.nan, strategy='most_frequent')\n",
    "median = SimpleImputer(missing_values=np.nan, strategy='median')"
   ]
  },
  {
   "cell_type": "code",
   "execution_count": 181,
   "metadata": {},
   "outputs": [],
   "source": [
    "X_train_categorial = df_train[['GmWt_Desc1','GmWt_Desc2']]"
   ]
  },
  {
   "cell_type": "code",
   "execution_count": 182,
   "metadata": {},
   "outputs": [],
   "source": [
    "most_frequent.fit(X_train_categorial)\n",
    "X_train_filled_categorial = most_frequent.transform(X_train_categorial)"
   ]
  },
  {
   "cell_type": "code",
   "execution_count": 78,
   "metadata": {},
   "outputs": [],
   "source": [
    "from sklearn.preprocessing import OneHotEncoder"
   ]
  },
  {
   "cell_type": "code",
   "execution_count": 210,
   "metadata": {},
   "outputs": [
    {
     "data": {
      "text/plain": [
       "<7756x1711 sparse matrix of type '<class 'numpy.float64'>'\n",
       "\twith 15512 stored elements in Compressed Sparse Row format>"
      ]
     },
     "execution_count": 210,
     "metadata": {},
     "output_type": "execute_result"
    }
   ],
   "source": [
    "ohe = OneHotEncoder(handle_unknown = 'ignore')\n",
    "ohe.fit(X_train_filled_categorial)\n",
    "X_train_filled_categorial_ohe  = ohe.transform(X_train_filled_categorial)\n",
    "X_train_filled_categorial_ohe  "
   ]
  },
  {
   "cell_type": "code",
   "execution_count": 184,
   "metadata": {
    "scrolled": false
   },
   "outputs": [
    {
     "data": {
      "text/plain": [
       "(7756, 1711)"
      ]
     },
     "execution_count": 184,
     "metadata": {},
     "output_type": "execute_result"
    }
   ],
   "source": [
    "X_train_filled_categorial_ohe.toarray().shape"
   ]
  },
  {
   "cell_type": "code",
   "execution_count": 185,
   "metadata": {
    "scrolled": true
   },
   "outputs": [
    {
     "data": {
      "text/plain": [
       "(7756, 1711)"
      ]
     },
     "execution_count": 185,
     "metadata": {},
     "output_type": "execute_result"
    }
   ],
   "source": [
    "df_categorial_filled_features = pd.DataFrame(X_train_filled_categorial_ohe.toarray())\n",
    "\n",
    "df_categorial_filled_features.columns = list(ohe.categories_[0]) + list(ohe.categories_[1])\n",
    "df_categorial_filled_features.shape"
   ]
  },
  {
   "cell_type": "markdown",
   "metadata": {},
   "source": [
    "Удалим категориальные столбцы и таргет из нашего датафрейма, заменив их на X_train_filled_categorial_ohe"
   ]
  },
  {
   "cell_type": "code",
   "execution_count": 186,
   "metadata": {},
   "outputs": [
    {
     "data": {
      "text/plain": [
       "7756"
      ]
     },
     "execution_count": 186,
     "metadata": {},
     "output_type": "execute_result"
    }
   ],
   "source": [
    "y_train = df_train['Energy_Kcal'].values\n",
    "len(y_train) "
   ]
  },
  {
   "cell_type": "code",
   "execution_count": 187,
   "metadata": {},
   "outputs": [
    {
     "data": {
      "text/plain": [
       "(7756, 48)"
      ]
     },
     "execution_count": 187,
     "metadata": {},
     "output_type": "execute_result"
    }
   ],
   "source": [
    "columns_to_del = ['Short_Description','GmWt_Desc1','GmWt_Desc2', 'Energy_Kcal']\n",
    "for column in columns_to_del:\n",
    "    if column in df_train:\n",
    "        del df_train[column]\n",
    "df_train.shape"
   ]
  },
  {
   "cell_type": "code",
   "execution_count": 188,
   "metadata": {},
   "outputs": [
    {
     "data": {
      "text/plain": [
       "((7756, 48), (7756, 1711))"
      ]
     },
     "execution_count": 188,
     "metadata": {},
     "output_type": "execute_result"
    }
   ],
   "source": [
    "df_train.shape, df_categorial_filled_features.shape"
   ]
  },
  {
   "cell_type": "code",
   "execution_count": 189,
   "metadata": {
    "scrolled": false
   },
   "outputs": [
    {
     "data": {
      "text/plain": [
       "(7756, 1759)"
      ]
     },
     "execution_count": 189,
     "metadata": {},
     "output_type": "execute_result"
    }
   ],
   "source": [
    "df_train_without_cat = pd.concat([df_train, df_categorial_filled_features],axis=1)\n",
    "df_train_without_cat.shape"
   ]
  },
  {
   "cell_type": "code",
   "execution_count": 190,
   "metadata": {},
   "outputs": [
    {
     "data": {
      "text/html": [
       "<div>\n",
       "<style scoped>\n",
       "    .dataframe tbody tr th:only-of-type {\n",
       "        vertical-align: middle;\n",
       "    }\n",
       "\n",
       "    .dataframe tbody tr th {\n",
       "        vertical-align: top;\n",
       "    }\n",
       "\n",
       "    .dataframe thead th {\n",
       "        text-align: right;\n",
       "    }\n",
       "</style>\n",
       "<table border=\"1\" class=\"dataframe\">\n",
       "  <thead>\n",
       "    <tr style=\"text-align: right;\">\n",
       "      <th></th>\n",
       "      <th>Water</th>\n",
       "      <th>Protein</th>\n",
       "      <th>Lipid_Total</th>\n",
       "      <th>Ash</th>\n",
       "      <th>Carbohydrate</th>\n",
       "      <th>Fiber</th>\n",
       "      <th>Sugar_Total</th>\n",
       "      <th>Calcium</th>\n",
       "      <th>Iron</th>\n",
       "      <th>Magnesium</th>\n",
       "      <th>...</th>\n",
       "      <th>6 medium</th>\n",
       "      <th>6 pieces</th>\n",
       "      <th>6 saltines</th>\n",
       "      <th>7 pieces</th>\n",
       "      <th>8 crayfish</th>\n",
       "      <th>8 fl oz</th>\n",
       "      <th>8 fl oz,  (1 serving)</th>\n",
       "      <th>8 oz</th>\n",
       "      <th>8 pods,  (3\" long)</th>\n",
       "      <th>9 sprigs</th>\n",
       "    </tr>\n",
       "  </thead>\n",
       "  <tbody>\n",
       "    <tr>\n",
       "      <td>0</td>\n",
       "      <td>4.70</td>\n",
       "      <td>12.00</td>\n",
       "      <td>6.00</td>\n",
       "      <td>3.90</td>\n",
       "      <td>73.40</td>\n",
       "      <td>5.2</td>\n",
       "      <td>13.75</td>\n",
       "      <td>651.0</td>\n",
       "      <td>47.50</td>\n",
       "      <td>118.0</td>\n",
       "      <td>...</td>\n",
       "      <td>0.0</td>\n",
       "      <td>0.0</td>\n",
       "      <td>0.0</td>\n",
       "      <td>0.0</td>\n",
       "      <td>0.0</td>\n",
       "      <td>0.0</td>\n",
       "      <td>0.0</td>\n",
       "      <td>0.0</td>\n",
       "      <td>0.0</td>\n",
       "      <td>0.0</td>\n",
       "    </tr>\n",
       "    <tr>\n",
       "      <td>1</td>\n",
       "      <td>90.20</td>\n",
       "      <td>2.52</td>\n",
       "      <td>0.62</td>\n",
       "      <td>2.04</td>\n",
       "      <td>4.62</td>\n",
       "      <td>2.4</td>\n",
       "      <td>NaN</td>\n",
       "      <td>58.0</td>\n",
       "      <td>3.13</td>\n",
       "      <td>38.0</td>\n",
       "      <td>...</td>\n",
       "      <td>0.0</td>\n",
       "      <td>0.0</td>\n",
       "      <td>0.0</td>\n",
       "      <td>0.0</td>\n",
       "      <td>0.0</td>\n",
       "      <td>0.0</td>\n",
       "      <td>0.0</td>\n",
       "      <td>0.0</td>\n",
       "      <td>0.0</td>\n",
       "      <td>0.0</td>\n",
       "    </tr>\n",
       "    <tr>\n",
       "      <td>2</td>\n",
       "      <td>63.89</td>\n",
       "      <td>24.06</td>\n",
       "      <td>11.09</td>\n",
       "      <td>1.56</td>\n",
       "      <td>0.00</td>\n",
       "      <td>0.0</td>\n",
       "      <td>0.00</td>\n",
       "      <td>13.0</td>\n",
       "      <td>0.97</td>\n",
       "      <td>21.0</td>\n",
       "      <td>...</td>\n",
       "      <td>0.0</td>\n",
       "      <td>0.0</td>\n",
       "      <td>0.0</td>\n",
       "      <td>0.0</td>\n",
       "      <td>0.0</td>\n",
       "      <td>0.0</td>\n",
       "      <td>0.0</td>\n",
       "      <td>0.0</td>\n",
       "      <td>0.0</td>\n",
       "      <td>0.0</td>\n",
       "    </tr>\n",
       "    <tr>\n",
       "      <td>3</td>\n",
       "      <td>54.73</td>\n",
       "      <td>20.43</td>\n",
       "      <td>21.35</td>\n",
       "      <td>3.51</td>\n",
       "      <td>0.00</td>\n",
       "      <td>0.0</td>\n",
       "      <td>0.00</td>\n",
       "      <td>10.0</td>\n",
       "      <td>0.95</td>\n",
       "      <td>14.0</td>\n",
       "      <td>...</td>\n",
       "      <td>0.0</td>\n",
       "      <td>0.0</td>\n",
       "      <td>0.0</td>\n",
       "      <td>0.0</td>\n",
       "      <td>0.0</td>\n",
       "      <td>0.0</td>\n",
       "      <td>0.0</td>\n",
       "      <td>0.0</td>\n",
       "      <td>0.0</td>\n",
       "      <td>0.0</td>\n",
       "    </tr>\n",
       "    <tr>\n",
       "      <td>4</td>\n",
       "      <td>94.78</td>\n",
       "      <td>0.00</td>\n",
       "      <td>0.00</td>\n",
       "      <td>0.02</td>\n",
       "      <td>0.04</td>\n",
       "      <td>0.0</td>\n",
       "      <td>0.04</td>\n",
       "      <td>6.0</td>\n",
       "      <td>0.03</td>\n",
       "      <td>1.0</td>\n",
       "      <td>...</td>\n",
       "      <td>0.0</td>\n",
       "      <td>0.0</td>\n",
       "      <td>0.0</td>\n",
       "      <td>0.0</td>\n",
       "      <td>0.0</td>\n",
       "      <td>0.0</td>\n",
       "      <td>0.0</td>\n",
       "      <td>0.0</td>\n",
       "      <td>0.0</td>\n",
       "      <td>0.0</td>\n",
       "    </tr>\n",
       "    <tr>\n",
       "      <td>...</td>\n",
       "      <td>...</td>\n",
       "      <td>...</td>\n",
       "      <td>...</td>\n",
       "      <td>...</td>\n",
       "      <td>...</td>\n",
       "      <td>...</td>\n",
       "      <td>...</td>\n",
       "      <td>...</td>\n",
       "      <td>...</td>\n",
       "      <td>...</td>\n",
       "      <td>...</td>\n",
       "      <td>...</td>\n",
       "      <td>...</td>\n",
       "      <td>...</td>\n",
       "      <td>...</td>\n",
       "      <td>...</td>\n",
       "      <td>...</td>\n",
       "      <td>...</td>\n",
       "      <td>...</td>\n",
       "      <td>...</td>\n",
       "      <td>...</td>\n",
       "    </tr>\n",
       "    <tr>\n",
       "      <td>7751</td>\n",
       "      <td>77.33</td>\n",
       "      <td>17.54</td>\n",
       "      <td>4.93</td>\n",
       "      <td>1.08</td>\n",
       "      <td>0.00</td>\n",
       "      <td>0.0</td>\n",
       "      <td>NaN</td>\n",
       "      <td>60.0</td>\n",
       "      <td>0.90</td>\n",
       "      <td>30.0</td>\n",
       "      <td>...</td>\n",
       "      <td>0.0</td>\n",
       "      <td>0.0</td>\n",
       "      <td>0.0</td>\n",
       "      <td>0.0</td>\n",
       "      <td>0.0</td>\n",
       "      <td>0.0</td>\n",
       "      <td>0.0</td>\n",
       "      <td>0.0</td>\n",
       "      <td>0.0</td>\n",
       "      <td>0.0</td>\n",
       "    </tr>\n",
       "    <tr>\n",
       "      <td>7752</td>\n",
       "      <td>63.95</td>\n",
       "      <td>20.59</td>\n",
       "      <td>15.04</td>\n",
       "      <td>0.87</td>\n",
       "      <td>0.00</td>\n",
       "      <td>0.0</td>\n",
       "      <td>0.00</td>\n",
       "      <td>23.0</td>\n",
       "      <td>1.47</td>\n",
       "      <td>21.0</td>\n",
       "      <td>...</td>\n",
       "      <td>0.0</td>\n",
       "      <td>0.0</td>\n",
       "      <td>0.0</td>\n",
       "      <td>0.0</td>\n",
       "      <td>0.0</td>\n",
       "      <td>0.0</td>\n",
       "      <td>0.0</td>\n",
       "      <td>0.0</td>\n",
       "      <td>0.0</td>\n",
       "      <td>0.0</td>\n",
       "    </tr>\n",
       "    <tr>\n",
       "      <td>7753</td>\n",
       "      <td>74.00</td>\n",
       "      <td>5.06</td>\n",
       "      <td>7.59</td>\n",
       "      <td>2.09</td>\n",
       "      <td>11.27</td>\n",
       "      <td>1.8</td>\n",
       "      <td>NaN</td>\n",
       "      <td>119.0</td>\n",
       "      <td>0.64</td>\n",
       "      <td>20.0</td>\n",
       "      <td>...</td>\n",
       "      <td>0.0</td>\n",
       "      <td>0.0</td>\n",
       "      <td>0.0</td>\n",
       "      <td>0.0</td>\n",
       "      <td>0.0</td>\n",
       "      <td>0.0</td>\n",
       "      <td>0.0</td>\n",
       "      <td>0.0</td>\n",
       "      <td>0.0</td>\n",
       "      <td>0.0</td>\n",
       "    </tr>\n",
       "    <tr>\n",
       "      <td>7754</td>\n",
       "      <td>79.36</td>\n",
       "      <td>0.28</td>\n",
       "      <td>0.12</td>\n",
       "      <td>0.33</td>\n",
       "      <td>19.91</td>\n",
       "      <td>2.6</td>\n",
       "      <td>NaN</td>\n",
       "      <td>4.0</td>\n",
       "      <td>0.43</td>\n",
       "      <td>5.0</td>\n",
       "      <td>...</td>\n",
       "      <td>0.0</td>\n",
       "      <td>0.0</td>\n",
       "      <td>0.0</td>\n",
       "      <td>0.0</td>\n",
       "      <td>0.0</td>\n",
       "      <td>0.0</td>\n",
       "      <td>0.0</td>\n",
       "      <td>0.0</td>\n",
       "      <td>0.0</td>\n",
       "      <td>0.0</td>\n",
       "    </tr>\n",
       "    <tr>\n",
       "      <td>7755</td>\n",
       "      <td>74.03</td>\n",
       "      <td>24.40</td>\n",
       "      <td>0.49</td>\n",
       "      <td>1.64</td>\n",
       "      <td>0.00</td>\n",
       "      <td>0.0</td>\n",
       "      <td>0.00</td>\n",
       "      <td>4.0</td>\n",
       "      <td>0.77</td>\n",
       "      <td>35.0</td>\n",
       "      <td>...</td>\n",
       "      <td>0.0</td>\n",
       "      <td>0.0</td>\n",
       "      <td>0.0</td>\n",
       "      <td>0.0</td>\n",
       "      <td>0.0</td>\n",
       "      <td>0.0</td>\n",
       "      <td>0.0</td>\n",
       "      <td>0.0</td>\n",
       "      <td>0.0</td>\n",
       "      <td>0.0</td>\n",
       "    </tr>\n",
       "  </tbody>\n",
       "</table>\n",
       "<p>7756 rows × 1759 columns</p>\n",
       "</div>"
      ],
      "text/plain": [
       "      Water  Protein  Lipid_Total   Ash  Carbohydrate  Fiber  Sugar_Total  \\\n",
       "0      4.70    12.00         6.00  3.90         73.40    5.2        13.75   \n",
       "1     90.20     2.52         0.62  2.04          4.62    2.4          NaN   \n",
       "2     63.89    24.06        11.09  1.56          0.00    0.0         0.00   \n",
       "3     54.73    20.43        21.35  3.51          0.00    0.0         0.00   \n",
       "4     94.78     0.00         0.00  0.02          0.04    0.0         0.04   \n",
       "...     ...      ...          ...   ...           ...    ...          ...   \n",
       "7751  77.33    17.54         4.93  1.08          0.00    0.0          NaN   \n",
       "7752  63.95    20.59        15.04  0.87          0.00    0.0         0.00   \n",
       "7753  74.00     5.06         7.59  2.09         11.27    1.8          NaN   \n",
       "7754  79.36     0.28         0.12  0.33         19.91    2.6          NaN   \n",
       "7755  74.03    24.40         0.49  1.64          0.00    0.0         0.00   \n",
       "\n",
       "      Calcium   Iron  Magnesium  ...  6 medium  6 pieces  6 saltines  \\\n",
       "0       651.0  47.50      118.0  ...       0.0       0.0         0.0   \n",
       "1        58.0   3.13       38.0  ...       0.0       0.0         0.0   \n",
       "2        13.0   0.97       21.0  ...       0.0       0.0         0.0   \n",
       "3        10.0   0.95       14.0  ...       0.0       0.0         0.0   \n",
       "4         6.0   0.03        1.0  ...       0.0       0.0         0.0   \n",
       "...       ...    ...        ...  ...       ...       ...         ...   \n",
       "7751     60.0   0.90       30.0  ...       0.0       0.0         0.0   \n",
       "7752     23.0   1.47       21.0  ...       0.0       0.0         0.0   \n",
       "7753    119.0   0.64       20.0  ...       0.0       0.0         0.0   \n",
       "7754      4.0   0.43        5.0  ...       0.0       0.0         0.0   \n",
       "7755      4.0   0.77       35.0  ...       0.0       0.0         0.0   \n",
       "\n",
       "      7 pieces  8 crayfish  8 fl oz  8 fl oz,  (1 serving)  8 oz  \\\n",
       "0          0.0         0.0      0.0                    0.0   0.0   \n",
       "1          0.0         0.0      0.0                    0.0   0.0   \n",
       "2          0.0         0.0      0.0                    0.0   0.0   \n",
       "3          0.0         0.0      0.0                    0.0   0.0   \n",
       "4          0.0         0.0      0.0                    0.0   0.0   \n",
       "...        ...         ...      ...                    ...   ...   \n",
       "7751       0.0         0.0      0.0                    0.0   0.0   \n",
       "7752       0.0         0.0      0.0                    0.0   0.0   \n",
       "7753       0.0         0.0      0.0                    0.0   0.0   \n",
       "7754       0.0         0.0      0.0                    0.0   0.0   \n",
       "7755       0.0         0.0      0.0                    0.0   0.0   \n",
       "\n",
       "      8 pods,  (3\" long)  9 sprigs  \n",
       "0                    0.0       0.0  \n",
       "1                    0.0       0.0  \n",
       "2                    0.0       0.0  \n",
       "3                    0.0       0.0  \n",
       "4                    0.0       0.0  \n",
       "...                  ...       ...  \n",
       "7751                 0.0       0.0  \n",
       "7752                 0.0       0.0  \n",
       "7753                 0.0       0.0  \n",
       "7754                 0.0       0.0  \n",
       "7755                 0.0       0.0  \n",
       "\n",
       "[7756 rows x 1759 columns]"
      ]
     },
     "execution_count": 190,
     "metadata": {},
     "output_type": "execute_result"
    }
   ],
   "source": [
    "df_train_without_cat"
   ]
  },
  {
   "cell_type": "code",
   "execution_count": 191,
   "metadata": {},
   "outputs": [],
   "source": [
    "median.fit(df_train_without_cat)\n",
    "X_train_prepared = median.transform(df_train_without_cat)"
   ]
  },
  {
   "cell_type": "code",
   "execution_count": 192,
   "metadata": {},
   "outputs": [
    {
     "data": {
      "text/plain": [
       "array([[ 4.7 , 12.  ,  6.  , ...,  0.  ,  0.  ,  0.  ],\n",
       "       [90.2 ,  2.52,  0.62, ...,  0.  ,  0.  ,  0.  ],\n",
       "       [63.89, 24.06, 11.09, ...,  0.  ,  0.  ,  0.  ],\n",
       "       ...,\n",
       "       [74.  ,  5.06,  7.59, ...,  0.  ,  0.  ,  0.  ],\n",
       "       [79.36,  0.28,  0.12, ...,  0.  ,  0.  ,  0.  ],\n",
       "       [74.03, 24.4 ,  0.49, ...,  0.  ,  0.  ,  0.  ]])"
      ]
     },
     "execution_count": 192,
     "metadata": {},
     "output_type": "execute_result"
    }
   ],
   "source": [
    "X_train_prepared"
   ]
  },
  {
   "cell_type": "markdown",
   "metadata": {},
   "source": [
    "# ШАГ 2\n",
    "Произведём нормировку данных "
   ]
  },
  {
   "cell_type": "code",
   "execution_count": 331,
   "metadata": {},
   "outputs": [],
   "source": [
    "from sklearn import feature_selection"
   ]
  },
  {
   "cell_type": "code",
   "execution_count": 340,
   "metadata": {
    "scrolled": true
   },
   "outputs": [],
   "source": [
    "VT = feature_selection.VarianceThreshold(.001).fit(X_train_prepared)"
   ]
  },
  {
   "cell_type": "code",
   "execution_count": 341,
   "metadata": {},
   "outputs": [
    {
     "data": {
      "text/plain": [
       "(7756, 209)"
      ]
     },
     "execution_count": 341,
     "metadata": {},
     "output_type": "execute_result"
    }
   ],
   "source": [
    "X_train_VT = VT.transform(X_train_prepared)\n",
    "X_train_VT.shape"
   ]
  },
  {
   "cell_type": "code",
   "execution_count": 342,
   "metadata": {},
   "outputs": [],
   "source": [
    "scaler = preprocessing.StandardScaler()\n",
    "scaler.fit(X_train_VT)\n",
    "X_train_norm = scaler.transform(X_train_VT)"
   ]
  },
  {
   "cell_type": "markdown",
   "metadata": {},
   "source": [
    "# ШАГ 3\n",
    "Попробуем посчитать регрессию на наших данных X_train_prepared, y_train"
   ]
  },
  {
   "cell_type": "code",
   "execution_count": 71,
   "metadata": {},
   "outputs": [],
   "source": [
    "from sklearn.model_selection import GridSearchCV"
   ]
  },
  {
   "cell_type": "code",
   "execution_count": 66,
   "metadata": {},
   "outputs": [],
   "source": [
    "import xgboost"
   ]
  },
  {
   "cell_type": "code",
   "execution_count": 360,
   "metadata": {},
   "outputs": [
    {
     "name": "stdout",
     "output_type": "stream",
     "text": [
      "[14:56:52] WARNING: src/objective/regression_obj.cu:152: reg:linear is now deprecated in favor of reg:squarederror.\n"
     ]
    },
    {
     "data": {
      "text/plain": [
       "XGBRegressor(base_score=0.5, booster='gbtree', colsample_bylevel=1,\n",
       "             colsample_bynode=1, colsample_bytree=1, gamma=0,\n",
       "             importance_type='gain', learning_rate=0.1, max_delta_step=0,\n",
       "             max_depth=8, min_child_weight=1, missing=None, n_estimators=1000,\n",
       "             n_jobs=-1, nthread=None, objective='reg:linear', random_state=0,\n",
       "             reg_alpha=0, reg_lambda=1, scale_pos_weight=1, seed=None,\n",
       "             silent=None, subsample=1, verbosity=1)"
      ]
     },
     "execution_count": 360,
     "metadata": {},
     "output_type": "execute_result"
    }
   ],
   "source": [
    "model = xgboost.XGBRegressor(\n",
    "    learning_rate = 0.1,\n",
    "    n_estimators = 1000,\n",
    "    max_depth = 8,\n",
    "    n_jobs = -1\n",
    ")\n",
    "model.fit(X_train_norm, y_train)"
   ]
  },
  {
   "cell_type": "code",
   "execution_count": 361,
   "metadata": {
    "scrolled": true
   },
   "outputs": [
    {
     "data": {
      "text/plain": [
       "0.09356110597960171"
      ]
     },
     "execution_count": 361,
     "metadata": {},
     "output_type": "execute_result"
    }
   ],
   "source": [
    "metrics.mean_absolute_error(y_train, model.predict(X_train_norm))"
   ]
  },
  {
   "cell_type": "code",
   "execution_count": 306,
   "metadata": {},
   "outputs": [
    {
     "data": {
      "text/plain": [
       "array([394.2068  ,  29.209696, 196.61113 , ..., 133.05824 ,  75.86238 ,\n",
       "       108.42767 ], dtype=float32)"
      ]
     },
     "execution_count": 306,
     "metadata": {},
     "output_type": "execute_result"
    }
   ],
   "source": [
    "model.predict(X_train_norm)"
   ]
  },
  {
   "cell_type": "markdown",
   "metadata": {},
   "source": [
    "# Шаг 4\n",
    "Предскажем данные на тестовой выборке"
   ]
  },
  {
   "cell_type": "code",
   "execution_count": 312,
   "metadata": {},
   "outputs": [],
   "source": [
    "df_test = pd.read_csv('test.csv')\n",
    "df_test.columns = columns"
   ]
  },
  {
   "cell_type": "code",
   "execution_count": 228,
   "metadata": {
    "scrolled": true
   },
   "outputs": [
    {
     "data": {
      "text/html": [
       "<div>\n",
       "<style scoped>\n",
       "    .dataframe tbody tr th:only-of-type {\n",
       "        vertical-align: middle;\n",
       "    }\n",
       "\n",
       "    .dataframe tbody tr th {\n",
       "        vertical-align: top;\n",
       "    }\n",
       "\n",
       "    .dataframe thead th {\n",
       "        text-align: right;\n",
       "    }\n",
       "</style>\n",
       "<table border=\"1\" class=\"dataframe\">\n",
       "  <thead>\n",
       "    <tr style=\"text-align: right;\">\n",
       "      <th></th>\n",
       "      <th>Short_Description</th>\n",
       "      <th>Water</th>\n",
       "      <th>Energy_Kcal</th>\n",
       "      <th>Protein</th>\n",
       "      <th>Lipid_Total</th>\n",
       "      <th>Ash</th>\n",
       "      <th>Carbohydrate</th>\n",
       "      <th>Fiber</th>\n",
       "      <th>Sugar_Total</th>\n",
       "      <th>Calcium</th>\n",
       "      <th>...</th>\n",
       "      <th>Vitamin_K</th>\n",
       "      <th>Fatty_Acid_Sat</th>\n",
       "      <th>Fatty_Acid_Mono</th>\n",
       "      <th>Fatty_Acid_Poly</th>\n",
       "      <th>Cholestrl</th>\n",
       "      <th>GmWt_1</th>\n",
       "      <th>GmWt_Desc1</th>\n",
       "      <th>GmWt_2</th>\n",
       "      <th>GmWt_Desc2</th>\n",
       "      <th>Refuse_Percentage</th>\n",
       "    </tr>\n",
       "  </thead>\n",
       "  <tbody>\n",
       "    <tr>\n",
       "      <td>0</td>\n",
       "      <td>SILK KEY LIME SOY YOGURT</td>\n",
       "      <td>77.59</td>\n",
       "      <td>2.35</td>\n",
       "      <td>1.18</td>\n",
       "      <td>1.24</td>\n",
       "      <td>17.65</td>\n",
       "      <td>0.6</td>\n",
       "      <td>12.35</td>\n",
       "      <td>176.0</td>\n",
       "      <td>0.64</td>\n",
       "      <td>...</td>\n",
       "      <td>0.000</td>\n",
       "      <td>NaN</td>\n",
       "      <td>NaN</td>\n",
       "      <td>0.0</td>\n",
       "      <td>170.0</td>\n",
       "      <td>1 container</td>\n",
       "      <td>NaN</td>\n",
       "      <td>NaN</td>\n",
       "      <td>0.0</td>\n",
       "      <td>NaN</td>\n",
       "    </tr>\n",
       "    <tr>\n",
       "      <td>1</td>\n",
       "      <td>FAST FOODS,SALAD,VEG,TOSSED,WO/DRSNG</td>\n",
       "      <td>95.51</td>\n",
       "      <td>1.25</td>\n",
       "      <td>0.07</td>\n",
       "      <td>0.53</td>\n",
       "      <td>3.22</td>\n",
       "      <td>NaN</td>\n",
       "      <td>NaN</td>\n",
       "      <td>13.0</td>\n",
       "      <td>0.63</td>\n",
       "      <td>...</td>\n",
       "      <td>0.010</td>\n",
       "      <td>0.004</td>\n",
       "      <td>0.034</td>\n",
       "      <td>0.0</td>\n",
       "      <td>104.0</td>\n",
       "      <td>.75 cup</td>\n",
       "      <td>207.0</td>\n",
       "      <td>1.5 cup</td>\n",
       "      <td>0.0</td>\n",
       "      <td>NaN</td>\n",
       "    </tr>\n",
       "    <tr>\n",
       "      <td>2</td>\n",
       "      <td>CUTTLEFISH,MXD SP,CKD,MOIST HEAT</td>\n",
       "      <td>61.12</td>\n",
       "      <td>32.48</td>\n",
       "      <td>1.40</td>\n",
       "      <td>3.36</td>\n",
       "      <td>1.64</td>\n",
       "      <td>0.0</td>\n",
       "      <td>NaN</td>\n",
       "      <td>180.0</td>\n",
       "      <td>10.84</td>\n",
       "      <td>...</td>\n",
       "      <td>0.236</td>\n",
       "      <td>0.162</td>\n",
       "      <td>0.268</td>\n",
       "      <td>224.0</td>\n",
       "      <td>85.0</td>\n",
       "      <td>3 oz</td>\n",
       "      <td>NaN</td>\n",
       "      <td>NaN</td>\n",
       "      <td>0.0</td>\n",
       "      <td>NaN</td>\n",
       "    </tr>\n",
       "    <tr>\n",
       "      <td>3</td>\n",
       "      <td>GROUND TURKEY,93% LN,7% FAT,RAW</td>\n",
       "      <td>72.63</td>\n",
       "      <td>18.73</td>\n",
       "      <td>8.34</td>\n",
       "      <td>0.92</td>\n",
       "      <td>0.00</td>\n",
       "      <td>0.0</td>\n",
       "      <td>0.00</td>\n",
       "      <td>21.0</td>\n",
       "      <td>1.17</td>\n",
       "      <td>...</td>\n",
       "      <td>2.170</td>\n",
       "      <td>2.843</td>\n",
       "      <td>2.537</td>\n",
       "      <td>74.0</td>\n",
       "      <td>28.0</td>\n",
       "      <td>1 oz</td>\n",
       "      <td>453.0</td>\n",
       "      <td>1 lb</td>\n",
       "      <td>0.0</td>\n",
       "      <td>NaN</td>\n",
       "    </tr>\n",
       "    <tr>\n",
       "      <td>4</td>\n",
       "      <td>TURKEY,RTL PARTS,ENHANCED,BREAST,MEAT ONLY,CKD...</td>\n",
       "      <td>69.99</td>\n",
       "      <td>27.94</td>\n",
       "      <td>2.08</td>\n",
       "      <td>1.40</td>\n",
       "      <td>0.00</td>\n",
       "      <td>0.0</td>\n",
       "      <td>0.00</td>\n",
       "      <td>15.0</td>\n",
       "      <td>0.59</td>\n",
       "      <td>...</td>\n",
       "      <td>0.428</td>\n",
       "      <td>0.670</td>\n",
       "      <td>0.668</td>\n",
       "      <td>74.0</td>\n",
       "      <td>85.0</td>\n",
       "      <td>3 oz</td>\n",
       "      <td>852.0</td>\n",
       "      <td>1 breast</td>\n",
       "      <td>24.0</td>\n",
       "      <td>NaN</td>\n",
       "    </tr>\n",
       "  </tbody>\n",
       "</table>\n",
       "<p>5 rows × 52 columns</p>\n",
       "</div>"
      ],
      "text/plain": [
       "                                   Short_Description  Water  Energy_Kcal  \\\n",
       "0                           SILK KEY LIME SOY YOGURT  77.59         2.35   \n",
       "1               FAST FOODS,SALAD,VEG,TOSSED,WO/DRSNG  95.51         1.25   \n",
       "2                   CUTTLEFISH,MXD SP,CKD,MOIST HEAT  61.12        32.48   \n",
       "3                    GROUND TURKEY,93% LN,7% FAT,RAW  72.63        18.73   \n",
       "4  TURKEY,RTL PARTS,ENHANCED,BREAST,MEAT ONLY,CKD...  69.99        27.94   \n",
       "\n",
       "   Protein  Lipid_Total    Ash  Carbohydrate  Fiber  Sugar_Total  Calcium  \\\n",
       "0     1.18         1.24  17.65           0.6  12.35        176.0     0.64   \n",
       "1     0.07         0.53   3.22           NaN    NaN         13.0     0.63   \n",
       "2     1.40         3.36   1.64           0.0    NaN        180.0    10.84   \n",
       "3     8.34         0.92   0.00           0.0   0.00         21.0     1.17   \n",
       "4     2.08         1.40   0.00           0.0   0.00         15.0     0.59   \n",
       "\n",
       "   ...  Vitamin_K  Fatty_Acid_Sat  Fatty_Acid_Mono  Fatty_Acid_Poly  \\\n",
       "0  ...      0.000             NaN              NaN              0.0   \n",
       "1  ...      0.010           0.004            0.034              0.0   \n",
       "2  ...      0.236           0.162            0.268            224.0   \n",
       "3  ...      2.170           2.843            2.537             74.0   \n",
       "4  ...      0.428           0.670            0.668             74.0   \n",
       "\n",
       "   Cholestrl       GmWt_1  GmWt_Desc1    GmWt_2  GmWt_Desc2  Refuse_Percentage  \n",
       "0      170.0  1 container         NaN       NaN         0.0                NaN  \n",
       "1      104.0      .75 cup       207.0   1.5 cup         0.0                NaN  \n",
       "2       85.0         3 oz         NaN       NaN         0.0                NaN  \n",
       "3       28.0         1 oz       453.0      1 lb         0.0                NaN  \n",
       "4       85.0         3 oz       852.0  1 breast        24.0                NaN  \n",
       "\n",
       "[5 rows x 52 columns]"
      ]
     },
     "execution_count": 228,
     "metadata": {},
     "output_type": "execute_result"
    }
   ],
   "source": [
    "df_test.head()"
   ]
  },
  {
   "cell_type": "code",
   "execution_count": 229,
   "metadata": {},
   "outputs": [],
   "source": [
    "X_test_categorial = df_test[['GmWt_1','GmWt_2']]"
   ]
  },
  {
   "cell_type": "code",
   "execution_count": 230,
   "metadata": {},
   "outputs": [
    {
     "data": {
      "text/plain": [
       "GmWt_1    object\n",
       "GmWt_2    object\n",
       "dtype: object"
      ]
     },
     "execution_count": 230,
     "metadata": {},
     "output_type": "execute_result"
    }
   ],
   "source": [
    "X_test_categorial.dtypes"
   ]
  },
  {
   "cell_type": "code",
   "execution_count": 231,
   "metadata": {
    "scrolled": true
   },
   "outputs": [
    {
     "data": {
      "text/plain": [
       "SimpleImputer(add_indicator=False, copy=True, fill_value=None,\n",
       "              missing_values=nan, strategy='most_frequent', verbose=0)"
      ]
     },
     "execution_count": 231,
     "metadata": {},
     "output_type": "execute_result"
    }
   ],
   "source": [
    "most_frequent"
   ]
  },
  {
   "cell_type": "code",
   "execution_count": 232,
   "metadata": {
    "scrolled": false
   },
   "outputs": [],
   "source": [
    "X_test_filled_categorial = most_frequent.transform(X_test_categorial)"
   ]
  },
  {
   "cell_type": "code",
   "execution_count": 233,
   "metadata": {},
   "outputs": [
    {
     "data": {
      "text/plain": [
       "((862, 48), (862, 1711))"
      ]
     },
     "execution_count": 233,
     "metadata": {},
     "output_type": "execute_result"
    }
   ],
   "source": [
    "X_test_filled_categorial_ohe  = ohe.transform(X_test_filled_categorial)\n",
    "\n",
    "df_categorial_filled_features_test = pd.DataFrame(X_test_filled_categorial_ohe.toarray())\n",
    "df_categorial_filled_features_test.columns = list(ohe.categories_[0]) + list(ohe.categories_[1])\n",
    "\n",
    "columns_to_del = ['Short_Description','GmWt_1','GmWt_2', 'Energy_Kcal']\n",
    "for column in columns_to_del:\n",
    "    if column in df_test:\n",
    "        del df_test[column]\n",
    "\n",
    "df_test.shape, df_categorial_filled_features_test.shape"
   ]
  },
  {
   "cell_type": "code",
   "execution_count": 234,
   "metadata": {},
   "outputs": [
    {
     "data": {
      "text/plain": [
       "(862, 1759)"
      ]
     },
     "execution_count": 234,
     "metadata": {},
     "output_type": "execute_result"
    }
   ],
   "source": [
    "df_test_without_cat = pd.concat([df_test, df_categorial_filled_features_test],axis=1)\n",
    "df_test_without_cat.shape"
   ]
  },
  {
   "cell_type": "code",
   "execution_count": 236,
   "metadata": {},
   "outputs": [
    {
     "data": {
      "text/html": [
       "<div>\n",
       "<style scoped>\n",
       "    .dataframe tbody tr th:only-of-type {\n",
       "        vertical-align: middle;\n",
       "    }\n",
       "\n",
       "    .dataframe tbody tr th {\n",
       "        vertical-align: top;\n",
       "    }\n",
       "\n",
       "    .dataframe thead th {\n",
       "        text-align: right;\n",
       "    }\n",
       "</style>\n",
       "<table border=\"1\" class=\"dataframe\">\n",
       "  <thead>\n",
       "    <tr style=\"text-align: right;\">\n",
       "      <th></th>\n",
       "      <th>Water</th>\n",
       "      <th>Protein</th>\n",
       "      <th>Lipid_Total</th>\n",
       "      <th>Ash</th>\n",
       "      <th>Carbohydrate</th>\n",
       "      <th>Fiber</th>\n",
       "      <th>Sugar_Total</th>\n",
       "      <th>Calcium</th>\n",
       "      <th>Iron</th>\n",
       "      <th>Magnesium</th>\n",
       "      <th>...</th>\n",
       "      <th>6 medium</th>\n",
       "      <th>6 pieces</th>\n",
       "      <th>6 saltines</th>\n",
       "      <th>7 pieces</th>\n",
       "      <th>8 crayfish</th>\n",
       "      <th>8 fl oz</th>\n",
       "      <th>8 fl oz,  (1 serving)</th>\n",
       "      <th>8 oz</th>\n",
       "      <th>8 pods,  (3\" long)</th>\n",
       "      <th>9 sprigs</th>\n",
       "    </tr>\n",
       "  </thead>\n",
       "  <tbody>\n",
       "    <tr>\n",
       "      <td>0</td>\n",
       "      <td>77.59</td>\n",
       "      <td>1.18</td>\n",
       "      <td>1.24</td>\n",
       "      <td>17.65</td>\n",
       "      <td>0.6</td>\n",
       "      <td>12.35</td>\n",
       "      <td>176.0</td>\n",
       "      <td>0.64</td>\n",
       "      <td>NaN</td>\n",
       "      <td>NaN</td>\n",
       "      <td>...</td>\n",
       "      <td>0.0</td>\n",
       "      <td>0.0</td>\n",
       "      <td>0.0</td>\n",
       "      <td>0.0</td>\n",
       "      <td>0.0</td>\n",
       "      <td>0.0</td>\n",
       "      <td>0.0</td>\n",
       "      <td>0.0</td>\n",
       "      <td>0.0</td>\n",
       "      <td>0.0</td>\n",
       "    </tr>\n",
       "    <tr>\n",
       "      <td>1</td>\n",
       "      <td>95.51</td>\n",
       "      <td>0.07</td>\n",
       "      <td>0.53</td>\n",
       "      <td>3.22</td>\n",
       "      <td>NaN</td>\n",
       "      <td>NaN</td>\n",
       "      <td>13.0</td>\n",
       "      <td>0.63</td>\n",
       "      <td>11.0</td>\n",
       "      <td>39.0</td>\n",
       "      <td>...</td>\n",
       "      <td>0.0</td>\n",
       "      <td>0.0</td>\n",
       "      <td>0.0</td>\n",
       "      <td>0.0</td>\n",
       "      <td>0.0</td>\n",
       "      <td>0.0</td>\n",
       "      <td>0.0</td>\n",
       "      <td>0.0</td>\n",
       "      <td>0.0</td>\n",
       "      <td>0.0</td>\n",
       "    </tr>\n",
       "    <tr>\n",
       "      <td>2</td>\n",
       "      <td>61.12</td>\n",
       "      <td>1.40</td>\n",
       "      <td>3.36</td>\n",
       "      <td>1.64</td>\n",
       "      <td>0.0</td>\n",
       "      <td>NaN</td>\n",
       "      <td>180.0</td>\n",
       "      <td>10.84</td>\n",
       "      <td>60.0</td>\n",
       "      <td>580.0</td>\n",
       "      <td>...</td>\n",
       "      <td>0.0</td>\n",
       "      <td>0.0</td>\n",
       "      <td>0.0</td>\n",
       "      <td>0.0</td>\n",
       "      <td>0.0</td>\n",
       "      <td>0.0</td>\n",
       "      <td>0.0</td>\n",
       "      <td>0.0</td>\n",
       "      <td>0.0</td>\n",
       "      <td>0.0</td>\n",
       "    </tr>\n",
       "    <tr>\n",
       "      <td>3</td>\n",
       "      <td>72.63</td>\n",
       "      <td>8.34</td>\n",
       "      <td>0.92</td>\n",
       "      <td>0.00</td>\n",
       "      <td>0.0</td>\n",
       "      <td>0.00</td>\n",
       "      <td>21.0</td>\n",
       "      <td>1.17</td>\n",
       "      <td>21.0</td>\n",
       "      <td>193.0</td>\n",
       "      <td>...</td>\n",
       "      <td>0.0</td>\n",
       "      <td>0.0</td>\n",
       "      <td>0.0</td>\n",
       "      <td>0.0</td>\n",
       "      <td>0.0</td>\n",
       "      <td>0.0</td>\n",
       "      <td>0.0</td>\n",
       "      <td>0.0</td>\n",
       "      <td>0.0</td>\n",
       "      <td>0.0</td>\n",
       "    </tr>\n",
       "    <tr>\n",
       "      <td>4</td>\n",
       "      <td>69.99</td>\n",
       "      <td>2.08</td>\n",
       "      <td>1.40</td>\n",
       "      <td>0.00</td>\n",
       "      <td>0.0</td>\n",
       "      <td>0.00</td>\n",
       "      <td>15.0</td>\n",
       "      <td>0.59</td>\n",
       "      <td>27.0</td>\n",
       "      <td>219.0</td>\n",
       "      <td>...</td>\n",
       "      <td>0.0</td>\n",
       "      <td>0.0</td>\n",
       "      <td>0.0</td>\n",
       "      <td>0.0</td>\n",
       "      <td>0.0</td>\n",
       "      <td>0.0</td>\n",
       "      <td>0.0</td>\n",
       "      <td>0.0</td>\n",
       "      <td>0.0</td>\n",
       "      <td>0.0</td>\n",
       "    </tr>\n",
       "    <tr>\n",
       "      <td>...</td>\n",
       "      <td>...</td>\n",
       "      <td>...</td>\n",
       "      <td>...</td>\n",
       "      <td>...</td>\n",
       "      <td>...</td>\n",
       "      <td>...</td>\n",
       "      <td>...</td>\n",
       "      <td>...</td>\n",
       "      <td>...</td>\n",
       "      <td>...</td>\n",
       "      <td>...</td>\n",
       "      <td>...</td>\n",
       "      <td>...</td>\n",
       "      <td>...</td>\n",
       "      <td>...</td>\n",
       "      <td>...</td>\n",
       "      <td>...</td>\n",
       "      <td>...</td>\n",
       "      <td>...</td>\n",
       "      <td>...</td>\n",
       "      <td>...</td>\n",
       "    </tr>\n",
       "    <tr>\n",
       "      <td>857</td>\n",
       "      <td>7.57</td>\n",
       "      <td>4.40</td>\n",
       "      <td>4.14</td>\n",
       "      <td>72.58</td>\n",
       "      <td>8.5</td>\n",
       "      <td>20.43</td>\n",
       "      <td>124.0</td>\n",
       "      <td>3.13</td>\n",
       "      <td>113.0</td>\n",
       "      <td>358.0</td>\n",
       "      <td>...</td>\n",
       "      <td>0.0</td>\n",
       "      <td>0.0</td>\n",
       "      <td>0.0</td>\n",
       "      <td>0.0</td>\n",
       "      <td>0.0</td>\n",
       "      <td>0.0</td>\n",
       "      <td>0.0</td>\n",
       "      <td>0.0</td>\n",
       "      <td>0.0</td>\n",
       "      <td>0.0</td>\n",
       "    </tr>\n",
       "    <tr>\n",
       "      <td>858</td>\n",
       "      <td>59.24</td>\n",
       "      <td>6.48</td>\n",
       "      <td>1.24</td>\n",
       "      <td>0.00</td>\n",
       "      <td>0.0</td>\n",
       "      <td>0.00</td>\n",
       "      <td>40.0</td>\n",
       "      <td>1.47</td>\n",
       "      <td>28.0</td>\n",
       "      <td>252.0</td>\n",
       "      <td>...</td>\n",
       "      <td>0.0</td>\n",
       "      <td>0.0</td>\n",
       "      <td>0.0</td>\n",
       "      <td>0.0</td>\n",
       "      <td>0.0</td>\n",
       "      <td>0.0</td>\n",
       "      <td>0.0</td>\n",
       "      <td>0.0</td>\n",
       "      <td>0.0</td>\n",
       "      <td>0.0</td>\n",
       "    </tr>\n",
       "    <tr>\n",
       "      <td>859</td>\n",
       "      <td>87.86</td>\n",
       "      <td>0.19</td>\n",
       "      <td>1.03</td>\n",
       "      <td>9.56</td>\n",
       "      <td>1.4</td>\n",
       "      <td>4.73</td>\n",
       "      <td>22.0</td>\n",
       "      <td>0.24</td>\n",
       "      <td>11.0</td>\n",
       "      <td>35.0</td>\n",
       "      <td>...</td>\n",
       "      <td>0.0</td>\n",
       "      <td>0.0</td>\n",
       "      <td>0.0</td>\n",
       "      <td>0.0</td>\n",
       "      <td>0.0</td>\n",
       "      <td>0.0</td>\n",
       "      <td>0.0</td>\n",
       "      <td>0.0</td>\n",
       "      <td>0.0</td>\n",
       "      <td>0.0</td>\n",
       "    </tr>\n",
       "    <tr>\n",
       "      <td>860</td>\n",
       "      <td>1.70</td>\n",
       "      <td>27.20</td>\n",
       "      <td>NaN</td>\n",
       "      <td>67.60</td>\n",
       "      <td>1.8</td>\n",
       "      <td>50.10</td>\n",
       "      <td>NaN</td>\n",
       "      <td>1.60</td>\n",
       "      <td>0.0</td>\n",
       "      <td>3.0</td>\n",
       "      <td>...</td>\n",
       "      <td>0.0</td>\n",
       "      <td>0.0</td>\n",
       "      <td>0.0</td>\n",
       "      <td>0.0</td>\n",
       "      <td>0.0</td>\n",
       "      <td>0.0</td>\n",
       "      <td>0.0</td>\n",
       "      <td>0.0</td>\n",
       "      <td>0.0</td>\n",
       "      <td>0.0</td>\n",
       "    </tr>\n",
       "    <tr>\n",
       "      <td>861</td>\n",
       "      <td>73.52</td>\n",
       "      <td>4.56</td>\n",
       "      <td>3.63</td>\n",
       "      <td>0.00</td>\n",
       "      <td>0.0</td>\n",
       "      <td>0.00</td>\n",
       "      <td>6.0</td>\n",
       "      <td>0.94</td>\n",
       "      <td>17.0</td>\n",
       "      <td>224.0</td>\n",
       "      <td>...</td>\n",
       "      <td>0.0</td>\n",
       "      <td>0.0</td>\n",
       "      <td>0.0</td>\n",
       "      <td>0.0</td>\n",
       "      <td>0.0</td>\n",
       "      <td>0.0</td>\n",
       "      <td>0.0</td>\n",
       "      <td>0.0</td>\n",
       "      <td>0.0</td>\n",
       "      <td>0.0</td>\n",
       "    </tr>\n",
       "  </tbody>\n",
       "</table>\n",
       "<p>862 rows × 1759 columns</p>\n",
       "</div>"
      ],
      "text/plain": [
       "     Water  Protein  Lipid_Total    Ash  Carbohydrate  Fiber  Sugar_Total  \\\n",
       "0    77.59     1.18         1.24  17.65           0.6  12.35        176.0   \n",
       "1    95.51     0.07         0.53   3.22           NaN    NaN         13.0   \n",
       "2    61.12     1.40         3.36   1.64           0.0    NaN        180.0   \n",
       "3    72.63     8.34         0.92   0.00           0.0   0.00         21.0   \n",
       "4    69.99     2.08         1.40   0.00           0.0   0.00         15.0   \n",
       "..     ...      ...          ...    ...           ...    ...          ...   \n",
       "857   7.57     4.40         4.14  72.58           8.5  20.43        124.0   \n",
       "858  59.24     6.48         1.24   0.00           0.0   0.00         40.0   \n",
       "859  87.86     0.19         1.03   9.56           1.4   4.73         22.0   \n",
       "860   1.70    27.20          NaN  67.60           1.8  50.10          NaN   \n",
       "861  73.52     4.56         3.63   0.00           0.0   0.00          6.0   \n",
       "\n",
       "     Calcium   Iron  Magnesium  ...  6 medium  6 pieces  6 saltines  7 pieces  \\\n",
       "0       0.64    NaN        NaN  ...       0.0       0.0         0.0       0.0   \n",
       "1       0.63   11.0       39.0  ...       0.0       0.0         0.0       0.0   \n",
       "2      10.84   60.0      580.0  ...       0.0       0.0         0.0       0.0   \n",
       "3       1.17   21.0      193.0  ...       0.0       0.0         0.0       0.0   \n",
       "4       0.59   27.0      219.0  ...       0.0       0.0         0.0       0.0   \n",
       "..       ...    ...        ...  ...       ...       ...         ...       ...   \n",
       "857     3.13  113.0      358.0  ...       0.0       0.0         0.0       0.0   \n",
       "858     1.47   28.0      252.0  ...       0.0       0.0         0.0       0.0   \n",
       "859     0.24   11.0       35.0  ...       0.0       0.0         0.0       0.0   \n",
       "860     1.60    0.0        3.0  ...       0.0       0.0         0.0       0.0   \n",
       "861     0.94   17.0      224.0  ...       0.0       0.0         0.0       0.0   \n",
       "\n",
       "     8 crayfish  8 fl oz  8 fl oz,  (1 serving)  8 oz  8 pods,  (3\" long)  \\\n",
       "0           0.0      0.0                    0.0   0.0                 0.0   \n",
       "1           0.0      0.0                    0.0   0.0                 0.0   \n",
       "2           0.0      0.0                    0.0   0.0                 0.0   \n",
       "3           0.0      0.0                    0.0   0.0                 0.0   \n",
       "4           0.0      0.0                    0.0   0.0                 0.0   \n",
       "..          ...      ...                    ...   ...                 ...   \n",
       "857         0.0      0.0                    0.0   0.0                 0.0   \n",
       "858         0.0      0.0                    0.0   0.0                 0.0   \n",
       "859         0.0      0.0                    0.0   0.0                 0.0   \n",
       "860         0.0      0.0                    0.0   0.0                 0.0   \n",
       "861         0.0      0.0                    0.0   0.0                 0.0   \n",
       "\n",
       "     9 sprigs  \n",
       "0         0.0  \n",
       "1         0.0  \n",
       "2         0.0  \n",
       "3         0.0  \n",
       "4         0.0  \n",
       "..        ...  \n",
       "857       0.0  \n",
       "858       0.0  \n",
       "859       0.0  \n",
       "860       0.0  \n",
       "861       0.0  \n",
       "\n",
       "[862 rows x 1759 columns]"
      ]
     },
     "execution_count": 236,
     "metadata": {},
     "output_type": "execute_result"
    }
   ],
   "source": [
    "df_test_without_cat"
   ]
  },
  {
   "cell_type": "code",
   "execution_count": 239,
   "metadata": {
    "scrolled": true
   },
   "outputs": [],
   "source": [
    "X_test_prepared = median.transform(df_test_without_cat)"
   ]
  },
  {
   "cell_type": "code",
   "execution_count": 345,
   "metadata": {},
   "outputs": [],
   "source": [
    "X_test_VT = VT.transform(X_test_prepared)\n",
    "X_test_norm = scaler.transform(X_test_VT)"
   ]
  },
  {
   "cell_type": "code",
   "execution_count": 364,
   "metadata": {},
   "outputs": [
    {
     "data": {
      "text/plain": [
       "XGBRegressor(base_score=0.5, booster='gbtree', colsample_bylevel=1,\n",
       "             colsample_bynode=1, colsample_bytree=1, gamma=0,\n",
       "             importance_type='gain', learning_rate=0.1, max_delta_step=0,\n",
       "             max_depth=8, min_child_weight=1, missing=None, n_estimators=1000,\n",
       "             n_jobs=-1, nthread=None, objective='reg:linear', random_state=0,\n",
       "             reg_alpha=0, reg_lambda=1, scale_pos_weight=1, seed=None,\n",
       "             silent=None, subsample=1, verbosity=1)"
      ]
     },
     "execution_count": 364,
     "metadata": {},
     "output_type": "execute_result"
    }
   ],
   "source": [
    "model"
   ]
  },
  {
   "cell_type": "code",
   "execution_count": 385,
   "metadata": {},
   "outputs": [
    {
     "data": {
      "text/plain": [
       "array([ 72.77467  ,  17.339556 , 155.8021   , 115.86586  , 123.425125 ,\n",
       "       162.32068  , 102.4706   , 106.934204 , 131.9184   , 208.18422  ,\n",
       "       132.82404  ,   4.328027 , 150.81207  , 178.07687  ,  45.764423 ,\n",
       "       139.50185  , 139.95163  ,  49.142254 , 171.86606  , 132.69254  ,\n",
       "        64.60242  ,  91.15904  ,  79.83307  , 197.61569  , 133.18376  ,\n",
       "       196.78716  , 186.03146  , 214.10733  , 146.74022  , 159.45126  ,\n",
       "       162.99725  ,   1.3035507,  54.54828  ,  29.721443 ,  28.014786 ,\n",
       "       193.20427  ,  45.954956 , 180.8108   , 187.80925  , 158.99802  ,\n",
       "       138.63144  , 155.9268   ,  68.9503   ,  48.640965 ,  39.429806 ,\n",
       "       252.1452   , 116.58816  , 130.39919  , 168.32608  , 203.45009  ,\n",
       "       137.91191  , 204.00462  , 182.79825  ,  70.45662  , 185.52046  ,\n",
       "       133.04897  , 144.24501  , 187.04587  ,  63.615803 , 199.90645  ,\n",
       "       153.76445  ,  46.56951  ,  58.38125  ,  50.647026 , 211.80357  ,\n",
       "       113.41145  , 152.93536  , 214.3247   , 143.6818   , 180.61139  ,\n",
       "       173.26135  ,  25.121754 , 175.84395  , 185.43054  , 141.1875   ,\n",
       "       174.14389  , 166.82103  , 111.90517  , 128.76698  , 196.01187  ,\n",
       "        10.981232 ,  12.199869 ,  43.129936 , 187.27577  , 211.26526  ,\n",
       "       203.12833  , 130.10483  , 135.26794  , 128.99341  , 133.36342  ,\n",
       "        34.412224 ,  48.806404 ,  45.65629  , 112.87005  , 201.83972  ,\n",
       "       154.0255   , 198.77545  , 216.98293  ,  95.63713  , 132.6117   ,\n",
       "       178.58911  , 139.2261   , 182.27667  , 170.20158  ,  62.158928 ,\n",
       "        25.47068  ,  33.61994  , 173.29381  , 191.60153  ,  59.489464 ,\n",
       "       304.43918  , 159.88913  , 212.71309  , 169.98335  , 162.74155  ,\n",
       "        40.02162  ,  60.913445 ,  49.36679  , 207.16058  , 143.22652  ,\n",
       "       249.51181  ,  21.810774 ,  63.97256  , 223.00494  , 183.6148   ,\n",
       "        94.58439  , 112.86797  , 185.83371  , 141.51039  ,  57.431103 ,\n",
       "       156.2377   ,  56.96621  , 145.71571  , 257.67953  , 117.91737  ,\n",
       "       182.64272  , 130.37485  , 142.4007   , 153.15802  , 146.57118  ,\n",
       "       187.33578  ,  63.45758  , 142.24635  , 205.53214  , 228.7577   ,\n",
       "       238.43599  ,  17.48243  , 224.80286  , 216.5945   ,  60.52552  ,\n",
       "       137.13745  ,  31.923891 , 106.067314 ,  30.278053 , 168.41504  ,\n",
       "       113.57125  , 280.23575  , 200.57327  , 199.35048  , 110.09068  ,\n",
       "       206.70341  ,  60.96449  ,  62.84447  , 166.03978  , 147.43726  ,\n",
       "        43.388344 , 133.54832  , 210.97649  , 138.91171  , 183.73607  ,\n",
       "        53.301872 , 221.3705   ,  26.714819 , 135.70537  , 146.56967  ,\n",
       "       147.55197  , 222.03484  , 200.52509  , 242.46512  ,  26.446177 ,\n",
       "       179.62129  ,  29.452068 , 100.59208  , 258.0824   , 165.00111  ,\n",
       "       230.71625  , 140.38252  , 128.03558  ,  90.66271  , 107.5975   ,\n",
       "       263.31827  ,  46.600735 , 173.2789   , 104.60781  , 228.88518  ,\n",
       "        91.00401  , 138.56935  , 154.07607  , 185.17407  ,  37.212402 ,\n",
       "       197.74843  ,  35.352318 , 212.93517  , 119.54952  ,  53.43762  ,\n",
       "       331.23288  , 197.17642  , 201.34042  , 219.00882  , 120.34683  ,\n",
       "       122.241936 , 117.91238  ,  47.27429  ,  56.821064 , 118.3619   ,\n",
       "        43.82527  ,  67.15931  , 208.1158   , 149.59793  , 206.02557  ,\n",
       "       211.56285  , 127.10066  , 243.58899  ,  11.325159 ,  84.06207  ,\n",
       "       216.67801  , 155.49748  , 168.69171  , 199.37273  , 213.91484  ,\n",
       "       202.43729  , 263.7508   , 115.10259  ,  53.315365 ,  49.900665 ,\n",
       "        94.90089  , 124.26701  ,  58.7284   ,  62.05483  , 642.86835  ,\n",
       "       132.75294  , 244.09793  , 174.26988  , 149.1688   , 228.90353  ,\n",
       "       208.72662  ,  66.49204  , 140.95451  , 169.98878  , 187.32306  ,\n",
       "       153.19043  , 122.28187  , 102.29756  ,  55.617825 , 301.3229   ,\n",
       "       105.5749   , 121.231415 , 174.97884  ,  73.40565  , 110.91824  ,\n",
       "       192.70605  , 202.88617  ,  39.67386  ,  15.801721 , 140.91951  ,\n",
       "       104.48314  , 150.93831  ,  23.392769 , 132.94972  , 150.89223  ,\n",
       "        39.79994  , 330.94107  , 140.63928  , 216.6424   ,  38.327175 ,\n",
       "       119.02354  ,  57.40188  ,  54.03884  , 204.47336  , 108.70832  ,\n",
       "       190.61617  ,  46.266346 , 183.72917  , 216.41385  , 168.69637  ,\n",
       "       165.15909  , 115.060814 ,  17.463757 , 318.87546  , 509.00696  ,\n",
       "       161.7873   ,  30.641958 , 255.9851   ,  60.55878  ,  89.07695  ,\n",
       "       116.30715  ,  62.699753 , 198.55315  , 149.90721  , 315.11945  ,\n",
       "       122.51986  , 217.82234  , 191.9403   , 195.47728  ,  32.077374 ,\n",
       "        62.741543 , 243.26846  , 175.89969  , 116.563065 ,  83.387024 ,\n",
       "        33.16661  , 190.56879  , 258.73718  ,  63.555084 ,  63.387985 ,\n",
       "        95.15662  ,  31.05865  , 157.3874   , 259.49536  , 227.80734  ,\n",
       "        42.60146  , 189.77126  , 180.61908  , 105.7291   , 193.62384  ,\n",
       "       133.20132  , 179.25624  ,  61.573063 , 207.74712  , 157.89566  ,\n",
       "        68.32948  ,  21.734669 ,  34.304142 ,  68.543    , 169.64499  ,\n",
       "       113.08889  , 168.97858  , 110.57992  , 158.75792  ,  74.94487  ,\n",
       "        89.74789  , 281.77045  , 116.994675 ,  41.923172 , 127.75321  ,\n",
       "       195.36853  , 123.36258  , 153.1405   , 124.41798  , 181.5817   ,\n",
       "       106.87385  , 174.75954  ,  14.741752 , 106.41543  , 289.57278  ,\n",
       "       216.67465  ,  54.07781  , 158.67047  , 204.8285   , 202.20357  ,\n",
       "       199.85197  , 207.80447  ,  82.13999  ,  91.27731  ,  40.92862  ,\n",
       "       225.76418  ,  47.862522 , 202.54718  ,   5.024936 ,  53.90531  ,\n",
       "       193.24504  , 138.82237  , 157.56708  , 284.23083  , 266.5455   ,\n",
       "       254.78908  , 191.82477  ,  23.662111 ,  90.72872  , 169.15443  ,\n",
       "        38.00686  ,  32.261322 ,  42.322975 , 287.3342   ,  77.93282  ,\n",
       "        36.943302 , 145.32387  , 164.5943   , 203.76175  , 174.37358  ,\n",
       "        90.49672  , 115.00022  , 112.382744 , 135.9299   , 145.51767  ,\n",
       "        93.3881   , 188.19092  ,  15.641556 ,  31.275417 , 177.16628  ,\n",
       "        16.838892 , 237.91605  , 213.15756  , 143.51776  , 175.47258  ,\n",
       "        69.7851   ,  34.578064 , 129.12901  , 212.79422  , 144.2741   ,\n",
       "       181.16498  ,  12.781585 ,  89.44776  , 209.6836   , 193.85217  ,\n",
       "       146.64012  , 215.34494  , 145.52908  , 121.9654   , 204.11887  ,\n",
       "        89.942345 ,  65.45999  , 134.98154  , 136.04408  ,  17.469643 ,\n",
       "       195.39352  , 133.10995  , 240.32228  , 111.02496  ,  60.62071  ,\n",
       "       226.52101  , 213.6106   , 205.80753  ,  98.46944  ,  67.06852  ,\n",
       "       162.98813  , 137.08073  , 209.82028  , 208.62308  , 169.44052  ,\n",
       "       171.12627  , 185.15302  ,  46.94463  ,  36.39024  ,  85.81057  ,\n",
       "        54.524734 ,  37.349224 ,  83.91876  ,  48.86601  , 155.94173  ,\n",
       "       196.23872  ,  37.975346 , 163.34     , 229.53752  , 210.46796  ,\n",
       "        39.60403  , 170.5904   , 130.27264  ,  25.229273 , 156.55783  ,\n",
       "       229.38538  , 199.22278  ,  16.881834 , 248.79738  , 129.90324  ,\n",
       "        50.573376 ,  92.472084 , 104.27867  ,  41.01979  , 115.94486  ,\n",
       "        87.93046  , 189.12347  , 225.00719  , 176.0498   ,  37.453613 ,\n",
       "       247.3853   , 215.89845  , 204.5307   , 139.1964   ,  33.28252  ,\n",
       "       123.26357  , 117.2473   , 126.87888  , 153.87837  , 155.72589  ,\n",
       "        89.233986 , 205.20276  ,  25.718464 , 234.67699  , 175.8103   ,\n",
       "       147.43121  , 200.76196  ,  28.427814 , 144.13564  , 172.39494  ,\n",
       "        34.4792   , 137.85121  ,  56.103683 , 216.63057  , 325.1365   ,\n",
       "       225.94785  , 187.56953  , 156.42105  , 244.78642  , 241.913    ,\n",
       "        45.722927 ,  36.732117 , 128.35736  , 207.73564  ,  43.488396 ,\n",
       "        30.81386  , 143.40057  ,  80.955696 , 128.45087  , 216.58221  ,\n",
       "       134.57504  , 329.34003  , 360.4309   , 109.97317  , 335.19702  ,\n",
       "        13.185562 , 120.01791  , 183.6686   , 229.05011  , 145.85933  ,\n",
       "       157.56105  , 331.6818   , 195.27428  ,  40.554123 , 220.39932  ,\n",
       "        36.270878 , 140.63867  , 140.28954  ,  38.231686 ,  42.91553  ,\n",
       "       187.41847  , 201.27762  ,  45.833347 , 133.74324  , 222.78528  ,\n",
       "        33.91951  , 106.98847  , 208.73038  ,  15.705059 ,  49.496166 ,\n",
       "       114.485596 , 106.72403  , 205.44003  , 178.34111  , 141.13516  ,\n",
       "       210.93535  , 114.817665 , 222.39383  , 139.20224  ,  28.790125 ,\n",
       "       278.9509   ,  42.03567  , 155.64467  , 104.881676 ,  45.565594 ,\n",
       "       155.7988   ,  39.35862  ,  25.609783 ,  51.025913 , 128.40106  ,\n",
       "       206.88824  ,  54.329666 ,   3.9218578,  36.461502 ,  36.90952  ,\n",
       "       147.71141  , 215.55406  , 201.60622  , 190.01978  , 135.86514  ,\n",
       "        34.2581   , 161.48613  ,  61.44061  ,  42.935043 , 152.6361   ,\n",
       "       195.38974  ,  47.305897 ,  17.990395 , 202.15004  ,  91.22958  ,\n",
       "       195.868    ,  19.705418 , 200.13907  , 133.7516   , 185.27641  ,\n",
       "       125.96405  , 127.09922  ,  31.51164  , 165.03027  , 205.72919  ,\n",
       "       230.52414  ,  51.60267  , 117.59775  , 127.03577  , 159.608    ,\n",
       "        98.49323  ,  43.110893 , 398.1879   , 238.57275  , 229.04213  ,\n",
       "       146.4465   ,  55.976486 , 205.20471  , 127.7699   , 275.51584  ,\n",
       "       150.89383  , 148.85426  , 240.29402  , 166.64536  , 165.51909  ,\n",
       "        52.111675 , 104.15635  ,  79.78687  , 107.077774 ,  50.208355 ,\n",
       "       194.31996  , 154.03757  , 206.93471  , 123.8252   , 168.76183  ,\n",
       "       133.14792  , 171.57967  , 124.39888  ,  32.751278 ,  96.207085 ,\n",
       "        53.046124 , 211.70218  , 138.31866  , 142.04587  ,  68.06717  ,\n",
       "       315.36655  ,  69.36548  , 101.95532  , 223.1196   ,  79.67262  ,\n",
       "       143.00836  ,  24.523762 ,  89.111336 ,  54.73898  , 126.592926 ,\n",
       "       168.99345  , 140.10092  , 245.40988  , 145.8712   , 228.9149   ,\n",
       "        45.61626  , 131.42848  ,  44.504215 , 165.48204  , 157.06212  ,\n",
       "        65.780266 ,  37.234585 , 191.56364  ,  30.76126  ,  46.938797 ,\n",
       "       120.57136  ,  49.08818  , 158.4353   , 124.121666 , 349.57837  ,\n",
       "       156.00763  , 239.35013  , 177.6351   ,  79.58708  , 197.62346  ,\n",
       "        51.250748 ,  22.521406 , 149.53746  , 123.11876  , 191.27359  ,\n",
       "       176.56606  ,  70.24828  , 201.91783  , 208.7205   ,  80.68405  ,\n",
       "       113.64216  , 115.04944  ,  91.4426   ,  25.131647 , 176.95613  ,\n",
       "       157.18718  , 114.576004 , 111.80697  , 315.27386  , 212.41666  ,\n",
       "         5.7288103, 139.0973   ,  65.66613  ,  72.98664  ,  95.35367  ,\n",
       "       206.22644  , 175.88564  , 192.38339  ,  45.5633   , 137.40346  ,\n",
       "        84.13902  , 152.46402  , 131.7065   , 155.63028  , 205.12863  ,\n",
       "       180.1583   , 211.26552  ,  99.85151  , 209.82468  , 233.63261  ,\n",
       "       191.23372  , 124.146835 , 171.31831  , 119.04735  , 152.63203  ,\n",
       "        59.179813 , 162.30406  , 136.18011  , 217.01823  , 228.98975  ,\n",
       "       145.89677  ,  45.599384 ,  54.98645  , 167.6283   , 153.65959  ,\n",
       "       295.29794  , 151.14284  , 173.68512  , 136.71057  , 103.72608  ,\n",
       "        92.44632  , 161.1201   , 146.86247  , 250.8819   , 183.72755  ,\n",
       "       177.10406  , 215.53204  , 167.41026  , 131.854    , 166.98929  ,\n",
       "        35.76725  , 137.5404   , 159.00235  , 145.61383  , 112.35192  ,\n",
       "       140.93822  , 155.9989   ,  56.044327 ,  42.182343 ,  61.90877  ,\n",
       "       196.9123   , 115.7124   ,  42.819683 , 116.20947  , 168.93779  ,\n",
       "       164.76236  ,  84.485176 ,  28.462612 , 160.76038  ,  21.150534 ,\n",
       "       249.95375  , 197.35785  , 144.14665  , 258.4782   , 109.3185   ,\n",
       "       177.40704  , 113.87765  , 237.08385  , 188.38507  , 310.71393  ,\n",
       "       318.90408  , 168.58136  ,  22.545458 ,  82.0013   , 106.60666  ,\n",
       "       230.00926  ,  38.917137 , 248.92947  , 138.20705  , 162.49797  ,\n",
       "        14.776106 , 166.24216  , 196.11185  , 213.35506  , 120.83222  ,\n",
       "        49.648846 , 171.79338  ,  24.431398 , 196.25018  ,  15.358195 ,\n",
       "       216.12463  , 105.01187  , 365.4558   , 170.4278   , 282.64978  ,\n",
       "       132.92087  ,  14.894186 , 167.63173  , 173.67038  ,  31.149212 ,\n",
       "       108.7017   , 120.488365 , 175.97928  , 142.86394  , 295.62607  ,\n",
       "       205.3942   , 160.82741  , 177.88826  , 241.04745  ,  40.4495   ,\n",
       "       113.40262  ,  11.889569 , 203.81367  , 121.79244  ,  24.48914  ,\n",
       "       143.53032  , 306.37982  , 179.83661  ,  24.275496 ,  85.11984  ,\n",
       "       172.62862  , 184.54721  ,  60.951706 , 223.41696  , 118.22653  ,\n",
       "       158.44815  ,  20.636864 , 217.97728  ,  14.453907 , 206.86017  ,\n",
       "        19.631283 , 193.96426  , 204.52632  , 243.56688  ,  36.6285   ,\n",
       "       214.20384  ,  20.96808  , 154.02588  ,  71.06332  ,  67.680756 ,\n",
       "        11.910846 ,  55.549763 , 176.47983  , 130.87546  , 196.19534  ,\n",
       "       185.76599  , 202.63539  ,  48.513424 , 220.67181  , 165.91351  ,\n",
       "       106.60933  , 130.70088  , 138.48076  , 273.70255  , 239.64355  ,\n",
       "       208.2241   ,  97.706635 , 202.95604  , 161.774    ,  30.513786 ,\n",
       "       183.48683  , 117.646965 ], dtype=float32)"
      ]
     },
     "execution_count": 385,
     "metadata": {},
     "output_type": "execute_result"
    }
   ],
   "source": [
    "y_pred = model.predict(X_test_norm)\n",
    "y_pred"
   ]
  },
  {
   "cell_type": "code",
   "execution_count": 386,
   "metadata": {},
   "outputs": [],
   "source": [
    "import csv"
   ]
  },
  {
   "cell_type": "code",
   "execution_count": 391,
   "metadata": {},
   "outputs": [],
   "source": [
    "f = open(\"Pred_main.csv\", \"w\")\n",
    "\n",
    "with f:\n",
    "    writer = csv.writer(f)\n",
    "    \n",
    "    writer.writerow(y_pred)"
   ]
  }
 ],
 "metadata": {
  "kernelspec": {
   "display_name": "Python 3",
   "language": "python",
   "name": "python3"
  },
  "language_info": {
   "codemirror_mode": {
    "name": "ipython",
    "version": 3
   },
   "file_extension": ".py",
   "mimetype": "text/x-python",
   "name": "python",
   "nbconvert_exporter": "python",
   "pygments_lexer": "ipython3",
   "version": "3.7.4"
  }
 },
 "nbformat": 4,
 "nbformat_minor": 2
}
